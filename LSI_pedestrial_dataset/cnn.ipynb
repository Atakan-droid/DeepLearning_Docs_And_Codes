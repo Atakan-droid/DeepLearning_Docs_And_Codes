{
 "cells": [
  {
   "cell_type": "code",
   "execution_count": 1,
   "metadata": {},
   "outputs": [
    {
     "name": "stderr",
     "output_type": "stream",
     "text": [
      "c:\\Users\\ataka\\AppData\\Local\\Programs\\Python\\Python310\\lib\\site-packages\\tqdm\\auto.py:22: TqdmWarning: IProgress not found. Please update jupyter and ipywidgets. See https://ipywidgets.readthedocs.io/en/stable/user_install.html\n",
      "  from .autonotebook import tqdm as notebook_tqdm\n"
     ]
    }
   ],
   "source": [
    "import torch\n",
    "import torch.nn as nn\n",
    "import  torch.nn.functional as F\n",
    "from PIL import Image\n",
    "import matplotlib.pyplot as plt\n",
    "import numpy as np\n",
    "import os \n",
    "import time\n"
   ]
  },
  {
   "cell_type": "code",
   "execution_count": 2,
   "metadata": {},
   "outputs": [
    {
     "name": "stdout",
     "output_type": "stream",
     "text": [
      "Device:  cuda:0\n"
     ]
    }
   ],
   "source": [
    "# device config\n",
    "#default cpu but we need GPU\n",
    "\n",
    "device=torch.device(\"cuda:0\" if torch.cuda.is_available() else \"cpu\")\n",
    "print(\"Device: \",device) "
   ]
  },
  {
   "cell_type": "code",
   "execution_count": 3,
   "metadata": {},
   "outputs": [],
   "source": [
    "def read_images(path,num_img):\n",
    "    array=np.zeros([num_img,64*32])\n",
    "    i=0\n",
    "    for img in os.listdir(path):\n",
    "        img_path=path+\"\\\\\"+ img\n",
    "        img=Image.open(img_path,mode=\"r\")\n",
    "        data=np.asarray(img,dtype=\"uint8\")\n",
    "        data=data.flatten()\n",
    "        array[i,:]=data\n",
    "        i+=1\n",
    "    return array"
   ]
  },
  {
   "cell_type": "code",
   "execution_count": 4,
   "metadata": {},
   "outputs": [],
   "source": [
    "#read train negative\n",
    "train_negative_path=r\"LSIFIR/Classification/Train/neg\"\n",
    "num_train_negative_img=43390\n",
    "train_negative_array=read_images(train_negative_path,num_train_negative_img)"
   ]
  },
  {
   "cell_type": "code",
   "execution_count": 5,
   "metadata": {},
   "outputs": [],
   "source": [
    "# pythorch array convert\n",
    "\n",
    "x_train_negative_tensor=torch.from_numpy(train_negative_array)\n",
    "\n",
    "y_train_negative_tensor=torch.zeros(num_train_negative_img,dtype=torch.long)"
   ]
  },
  {
   "cell_type": "code",
   "execution_count": 6,
   "metadata": {},
   "outputs": [],
   "source": [
    "#read train positive\n",
    "train_positive_path=r\"LSIFIR/Classification/Train/pos/\"\n",
    "num_train_positive_img=10208\n",
    "train_positive_array=read_images(train_positive_path,num_train_positive_img)"
   ]
  },
  {
   "cell_type": "code",
   "execution_count": 7,
   "metadata": {},
   "outputs": [],
   "source": [
    "x_train_positive_tensor=torch.from_numpy(train_positive_array)\n",
    "\n",
    "y_train_positive_tensor=torch.zeros(num_train_positive_img,dtype=torch.long)"
   ]
  },
  {
   "cell_type": "code",
   "execution_count": 8,
   "metadata": {},
   "outputs": [
    {
     "name": "stdout",
     "output_type": "stream",
     "text": [
      "torch.Size([53598, 2048])\n",
      "torch.Size([53598])\n"
     ]
    }
   ],
   "source": [
    "#concat pos and neg\n",
    "\n",
    "x_train=torch.cat((x_train_negative_tensor,x_train_positive_tensor),0)\n",
    "print(x_train.size())\n",
    "y_train=torch.cat((y_train_negative_tensor,y_train_negative_tensor),0)\n",
    "y_train=y_train[:53598]\n",
    "print(y_train.size())"
   ]
  },
  {
   "cell_type": "code",
   "execution_count": 9,
   "metadata": {},
   "outputs": [
    {
     "name": "stdout",
     "output_type": "stream",
     "text": [
      "X_train size torch.Size([53598, 2048])\n"
     ]
    }
   ],
   "source": [
    "print(\"X_train size\",x_train.size())"
   ]
  },
  {
   "cell_type": "code",
   "execution_count": 10,
   "metadata": {},
   "outputs": [],
   "source": [
    "# read test\n",
    "\n",
    "test_negative_path=r\"LSIFIR/Classification/Test/neg\"\n",
    "num_test_negative_img=22050\n",
    "test_negative_array=read_images(test_negative_path,num_test_negative_img)\n",
    "x_test_negative_tensor=torch.from_numpy(test_negative_array[:20855,:])\n",
    "y_test_negative_tensor=torch.zeros(20855,dtype=torch.long)\n",
    "\n",
    "test_positive_path=r\"LSIFIR/Classification/Test/pos\"\n",
    "num_test_positive_img=5944\n",
    "test_positive_array=read_images(test_positive_path,num_test_positive_img)\n",
    "x_test_positive_tensor=torch.from_numpy(test_positive_array)\n",
    "y_test_positive_tensor=torch.zeros(num_test_positive_img,dtype=torch.long)\n",
    "\n"
   ]
  },
  {
   "cell_type": "code",
   "execution_count": 11,
   "metadata": {},
   "outputs": [],
   "source": [
    "x_test=torch.cat((x_test_negative_tensor,x_test_positive_tensor),0)\n",
    "y_test=torch.cat((y_test_negative_tensor,y_test_positive_tensor),0)"
   ]
  },
  {
   "cell_type": "code",
   "execution_count": 12,
   "metadata": {},
   "outputs": [
    {
     "data": {
      "text/plain": [
       "<matplotlib.image.AxesImage at 0x21d4eda38b0>"
      ]
     },
     "execution_count": 12,
     "metadata": {},
     "output_type": "execute_result"
    },
    {
     "data": {
      "image/png": "[encoded data removed]",
      "text/plain": [
       "<Figure size 640x480 with 1 Axes>"
      ]
     },
     "metadata": {},
     "output_type": "display_data"
    }
   ],
   "source": [
    "#visualize\n",
    "\n",
    "plt.imshow(x_train[45001,:].reshape(64,32),cmap=\"gray\")"
   ]
  },
  {
   "attachments": {},
   "cell_type": "markdown",
   "metadata": {},
   "source": [
    "# CNN\n",
    "## HyperParameters"
   ]
  },
  {
   "cell_type": "code",
   "execution_count": 13,
   "metadata": {},
   "outputs": [],
   "source": [
    "\n",
    "num_epochs=500\n",
    "num_classes=2\n",
    "batch_size=2000\n",
    "learning_rate=0.00001"
   ]
  },
  {
   "cell_type": "code",
   "execution_count": 19,
   "metadata": {},
   "outputs": [],
   "source": [
    "class Net(nn.Module):\n",
    "    def __init__(self) :\n",
    "        super(Net,self).__init__()\n",
    "\n",
    "        self.con1=nn.Conv2d(1,10,5)\n",
    "        self.pool=nn.MaxPool2d(2,2)\n",
    "        self.con2=nn.Conv2d(10,16,5)\n",
    "\n",
    "        #full connected layer\n",
    "        self.fc1=nn.Linear(16*13*5,520)\n",
    "        self.fc2=nn.Linear(520,130)\n",
    "        self.fc2=nn.Linear(130,num_classes)\n",
    "\n",
    "    def forward(self,x):\n",
    "        x=self.pool(F.relu((self.con1(x))))\n",
    "        x=self.pool(F.relu((self.con2(x))))\n",
    "        print(x)\n",
    "        x=x.view(-1,16*13*5)\n",
    "        print(x)\n",
    "        x=F.relu((self.fc1(x)))\n",
    "        x=F.relu((self.fc2(x)))\n",
    "        x=self.fc3(x)\n",
    "        return x"
   ]
  },
  {
   "cell_type": "code",
   "execution_count": 20,
   "metadata": {},
   "outputs": [],
   "source": [
    "import torch.utils.data\n",
    "train=torch.utils.data.TensorDataset(x_train,y_train)\n",
    "trainLoader=torch.utils.data.DataLoader(train,batch_size,shuffle=True)\n",
    "\n",
    "test=torch.utils.data.TensorDataset(x_test,y_test)\n",
    "testLoader=torch.utils.data.DataLoader(test,batch_size,shuffle=False)"
   ]
  },
  {
   "cell_type": "code",
   "execution_count": 21,
   "metadata": {},
   "outputs": [],
   "source": [
    "net=Net().to(device)"
   ]
  },
  {
   "attachments": {},
   "cell_type": "markdown",
   "metadata": {},
   "source": [
    "# Loss and Optimizer"
   ]
  },
  {
   "cell_type": "code",
   "execution_count": 22,
   "metadata": {},
   "outputs": [],
   "source": [
    "criterion =nn.CrossEntropyLoss()\n",
    "\n",
    "import torch.optim as optim\n",
    "\n",
    "optimizer=optim.SGD(net.parameters(),lr=learning_rate,momentum=0.8)"
   ]
  },
  {
   "cell_type": "code",
   "execution_count": 18,
   "metadata": {},
   "outputs": [
    {
     "ename": "RuntimeError",
     "evalue": "mat1 and mat2 shapes cannot be multiplied (2000x520 and 130x2)",
     "output_type": "error",
     "traceback": [
      "\u001b[1;31m---------------------------------------------------------------------------\u001b[0m",
      "\u001b[1;31mRuntimeError\u001b[0m                              Traceback (most recent call last)",
      "\u001b[1;32mc:\\Users\\ataka\\Desktop\\Lessons\\deep_learning\\LSI_pedestrial_dataset\\cnn.ipynb Cell 20\u001b[0m in \u001b[0;36m2\n\u001b[0;32m     <a href='vscode-notebook-cell:/c%3A/Users/ataka/Desktop/Lessons/deep_learning/LSI_pedestrial_dataset/cnn.ipynb#X25sZmlsZQ%3D%3D?line=21'>22</a>\u001b[0m optimizer\u001b[39m.\u001b[39mzero_grad()\n\u001b[0;32m     <a href='vscode-notebook-cell:/c%3A/Users/ataka/Desktop/Lessons/deep_learning/LSI_pedestrial_dataset/cnn.ipynb#X25sZmlsZQ%3D%3D?line=23'>24</a>\u001b[0m \u001b[39m#forward\u001b[39;00m\n\u001b[1;32m---> <a href='vscode-notebook-cell:/c%3A/Users/ataka/Desktop/Lessons/deep_learning/LSI_pedestrial_dataset/cnn.ipynb#X25sZmlsZQ%3D%3D?line=24'>25</a>\u001b[0m outputs\u001b[39m=\u001b[39mnet(inputs)\n\u001b[0;32m     <a href='vscode-notebook-cell:/c%3A/Users/ataka/Desktop/Lessons/deep_learning/LSI_pedestrial_dataset/cnn.ipynb#X25sZmlsZQ%3D%3D?line=26'>27</a>\u001b[0m \u001b[39m#loss\u001b[39;00m\n\u001b[0;32m     <a href='vscode-notebook-cell:/c%3A/Users/ataka/Desktop/Lessons/deep_learning/LSI_pedestrial_dataset/cnn.ipynb#X25sZmlsZQ%3D%3D?line=27'>28</a>\u001b[0m loss\u001b[39m=\u001b[39mcriterion(outputs,labels)\n",
      "File \u001b[1;32mc:\\Users\\ataka\\AppData\\Local\\Programs\\Python\\Python310\\lib\\site-packages\\torch\\nn\\modules\\module.py:1194\u001b[0m, in \u001b[0;36mModule._call_impl\u001b[1;34m(self, *input, **kwargs)\u001b[0m\n\u001b[0;32m   1190\u001b[0m \u001b[39m# If we don't have any hooks, we want to skip the rest of the logic in\u001b[39;00m\n\u001b[0;32m   1191\u001b[0m \u001b[39m# this function, and just call forward.\u001b[39;00m\n\u001b[0;32m   1192\u001b[0m \u001b[39mif\u001b[39;00m \u001b[39mnot\u001b[39;00m (\u001b[39mself\u001b[39m\u001b[39m.\u001b[39m_backward_hooks \u001b[39mor\u001b[39;00m \u001b[39mself\u001b[39m\u001b[39m.\u001b[39m_forward_hooks \u001b[39mor\u001b[39;00m \u001b[39mself\u001b[39m\u001b[39m.\u001b[39m_forward_pre_hooks \u001b[39mor\u001b[39;00m _global_backward_hooks\n\u001b[0;32m   1193\u001b[0m         \u001b[39mor\u001b[39;00m _global_forward_hooks \u001b[39mor\u001b[39;00m _global_forward_pre_hooks):\n\u001b[1;32m-> 1194\u001b[0m     \u001b[39mreturn\u001b[39;00m forward_call(\u001b[39m*\u001b[39m\u001b[39minput\u001b[39m, \u001b[39m*\u001b[39m\u001b[39m*\u001b[39mkwargs)\n\u001b[0;32m   1195\u001b[0m \u001b[39m# Do not call functions when jit is used\u001b[39;00m\n\u001b[0;32m   1196\u001b[0m full_backward_hooks, non_full_backward_hooks \u001b[39m=\u001b[39m [], []\n",
      "\u001b[1;32mc:\\Users\\ataka\\Desktop\\Lessons\\deep_learning\\LSI_pedestrial_dataset\\cnn.ipynb Cell 20\u001b[0m in \u001b[0;36m2\n\u001b[0;32m     <a href='vscode-notebook-cell:/c%3A/Users/ataka/Desktop/Lessons/deep_learning/LSI_pedestrial_dataset/cnn.ipynb#X25sZmlsZQ%3D%3D?line=17'>18</a>\u001b[0m x\u001b[39m=\u001b[39mx\u001b[39m.\u001b[39mview(\u001b[39m-\u001b[39m\u001b[39m1\u001b[39m,\u001b[39m16\u001b[39m\u001b[39m*\u001b[39m\u001b[39m13\u001b[39m\u001b[39m*\u001b[39m\u001b[39m5\u001b[39m)\n\u001b[0;32m     <a href='vscode-notebook-cell:/c%3A/Users/ataka/Desktop/Lessons/deep_learning/LSI_pedestrial_dataset/cnn.ipynb#X25sZmlsZQ%3D%3D?line=18'>19</a>\u001b[0m x\u001b[39m=\u001b[39mF\u001b[39m.\u001b[39mrelu((\u001b[39mself\u001b[39m\u001b[39m.\u001b[39mfc1(x)))\n\u001b[1;32m---> <a href='vscode-notebook-cell:/c%3A/Users/ataka/Desktop/Lessons/deep_learning/LSI_pedestrial_dataset/cnn.ipynb#X25sZmlsZQ%3D%3D?line=19'>20</a>\u001b[0m x\u001b[39m=\u001b[39mF\u001b[39m.\u001b[39mrelu((\u001b[39mself\u001b[39;49m\u001b[39m.\u001b[39;49mfc2(x)))\n\u001b[0;32m     <a href='vscode-notebook-cell:/c%3A/Users/ataka/Desktop/Lessons/deep_learning/LSI_pedestrial_dataset/cnn.ipynb#X25sZmlsZQ%3D%3D?line=20'>21</a>\u001b[0m x\u001b[39m=\u001b[39m\u001b[39mself\u001b[39m\u001b[39m.\u001b[39mfc3(x)\n\u001b[0;32m     <a href='vscode-notebook-cell:/c%3A/Users/ataka/Desktop/Lessons/deep_learning/LSI_pedestrial_dataset/cnn.ipynb#X25sZmlsZQ%3D%3D?line=21'>22</a>\u001b[0m \u001b[39mreturn\u001b[39;00m x\n",
      "File \u001b[1;32mc:\\Users\\ataka\\AppData\\Local\\Programs\\Python\\Python310\\lib\\site-packages\\torch\\nn\\modules\\module.py:1194\u001b[0m, in \u001b[0;36mModule._call_impl\u001b[1;34m(self, *input, **kwargs)\u001b[0m\n\u001b[0;32m   1190\u001b[0m \u001b[39m# If we don't have any hooks, we want to skip the rest of the logic in\u001b[39;00m\n\u001b[0;32m   1191\u001b[0m \u001b[39m# this function, and just call forward.\u001b[39;00m\n\u001b[0;32m   1192\u001b[0m \u001b[39mif\u001b[39;00m \u001b[39mnot\u001b[39;00m (\u001b[39mself\u001b[39m\u001b[39m.\u001b[39m_backward_hooks \u001b[39mor\u001b[39;00m \u001b[39mself\u001b[39m\u001b[39m.\u001b[39m_forward_hooks \u001b[39mor\u001b[39;00m \u001b[39mself\u001b[39m\u001b[39m.\u001b[39m_forward_pre_hooks \u001b[39mor\u001b[39;00m _global_backward_hooks\n\u001b[0;32m   1193\u001b[0m         \u001b[39mor\u001b[39;00m _global_forward_hooks \u001b[39mor\u001b[39;00m _global_forward_pre_hooks):\n\u001b[1;32m-> 1194\u001b[0m     \u001b[39mreturn\u001b[39;00m forward_call(\u001b[39m*\u001b[39m\u001b[39minput\u001b[39m, \u001b[39m*\u001b[39m\u001b[39m*\u001b[39mkwargs)\n\u001b[0;32m   1195\u001b[0m \u001b[39m# Do not call functions when jit is used\u001b[39;00m\n\u001b[0;32m   1196\u001b[0m full_backward_hooks, non_full_backward_hooks \u001b[39m=\u001b[39m [], []\n",
      "File \u001b[1;32mc:\\Users\\ataka\\AppData\\Local\\Programs\\Python\\Python310\\lib\\site-packages\\torch\\nn\\modules\\linear.py:114\u001b[0m, in \u001b[0;36mLinear.forward\u001b[1;34m(self, input)\u001b[0m\n\u001b[0;32m    113\u001b[0m \u001b[39mdef\u001b[39;00m \u001b[39mforward\u001b[39m(\u001b[39mself\u001b[39m, \u001b[39minput\u001b[39m: Tensor) \u001b[39m-\u001b[39m\u001b[39m>\u001b[39m Tensor:\n\u001b[1;32m--> 114\u001b[0m     \u001b[39mreturn\u001b[39;00m F\u001b[39m.\u001b[39;49mlinear(\u001b[39minput\u001b[39;49m, \u001b[39mself\u001b[39;49m\u001b[39m.\u001b[39;49mweight, \u001b[39mself\u001b[39;49m\u001b[39m.\u001b[39;49mbias)\n",
      "\u001b[1;31mRuntimeError\u001b[0m: mat1 and mat2 shapes cannot be multiplied (2000x520 and 130x2)"
     ]
    }
   ],
   "source": [
    "# train network\n",
    "start = time.time()\n",
    "train_acc=[]\n",
    "test_acc=[]\n",
    "loss_list=[]\n",
    "\n",
    "use_gpu=True\n",
    "\n",
    "for epoch in range(num_epochs):\n",
    "    for i,data in enumerate(trainLoader,0):\n",
    "        print(\"Data is \",data)\n",
    "        inputs,labels=data\n",
    "        print(\"İnputs is\",inputs)\n",
    "        print(\"Labels are\",labels)\n",
    "        inputs=inputs.view(batch_size,1,64,32) #reshape\n",
    "        inputs=inputs.float() # float\n",
    "        \n",
    "        #use gpu\n",
    "        if use_gpu:\n",
    "            if torch.cuda.is_available():\n",
    "                inputs,labels=inputs.to(device),labels.to(device)\n",
    "            \n",
    "        #zero gradient\n",
    "        optimizer.zero_grad()\n",
    "\n",
    "        #forward\n",
    "        outputs=net(inputs)\n",
    "        \n",
    "        #loss\n",
    "        loss=criterion(outputs,labels)\n",
    "\n",
    "        #back\n",
    "\n",
    "        loss.backward()\n",
    "\n",
    "        #update weights\n",
    "        optimizer.step()\n",
    "\n",
    "    # test\n",
    "    correct=0\n",
    "    total =0\n",
    "\n",
    "    #no backprobagation\n",
    "    with torch.no_grad():\n",
    "        for data in testLoader:\n",
    "            images,labels=data\n",
    "            images=images.view(batch_size,1,64,32)\n",
    "            images.float()\n",
    "\n",
    "            #use gpu\n",
    "            if use_gpu:\n",
    "                if torch.cuda.is_available():\n",
    "                    inputs,labels=inputs.to(device),labels.to(device)\n",
    "            \n",
    "            outputs=net(images)\n",
    "            _,predicted=torch.max(outputs.data,1)\n",
    "            total+=labels.size(0)\n",
    "            correct +=(predicted==labels).sum().item()\n",
    "\n",
    "    acc1=correct/total\n",
    "    print(\"Acc test:\",acc1)\n",
    "    test_acc.append(acc1)\n",
    "\n",
    "    # train\n",
    "    correct=0\n",
    "    total =0\n",
    "\n",
    "    with torch.no_grad():\n",
    "        for data in trainLoader:\n",
    "            images,labels=data\n",
    "            images=images.view(batch_size,1,64,32)\n",
    "            images.float()\n",
    "\n",
    "            #use gpu\n",
    "            if use_gpu:\n",
    "                if torch.cuda.is_available():\n",
    "                    inputs,labels=inputs.to(device),labels.to(device)\n",
    "            \n",
    "            outputs=net(images)\n",
    "            _,predicted=torch.max(outputs.data,1)\n",
    "            total+=labels.size(0)\n",
    "            correct +=(predicted==labels).sum().item()\n",
    "\n",
    "    acc2=correct/total\n",
    "    print(\"Acc train:\",acc2)\n",
    "    train_acc.append(acc2)\n",
    "\n",
    "print(\"Train is done!\")\n",
    "\n",
    "end=time.time()\n",
    "process_time = (end-start)/60\n",
    "print(\"Process time :\",process_time)"
   ]
  }
 ],
 "metadata": {
  "kernelspec": {
   "display_name": "Python 3",
   "language": "python",
   "name": "python3"
  },
  "language_info": {
   "codemirror_mode": {
    "name": "ipython",
    "version": 3
   },
   "file_extension": ".py",
   "mimetype": "text/x-python",
   "name": "python",
   "nbconvert_exporter": "python",
   "pygments_lexer": "ipython3",
   "version": "3.10.5"
  },
  "orig_nbformat": 4
 },
 "nbformat": 4,
 "nbformat_minor": 2
}
